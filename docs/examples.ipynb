{
 "cells": [
  {
   "cell_type": "markdown",
   "metadata": {},
   "source": [
    "# Examples"
   ]
  },
  {
   "cell_type": "code",
   "execution_count": 1,
   "metadata": {},
   "outputs": [
    {
     "name": "stdout",
     "output_type": "stream",
     "text": [
      "/home/tmb/exp/objectio\n"
     ]
    }
   ],
   "source": [
    "%cd .."
   ]
  },
  {
   "cell_type": "code",
   "execution_count": 2,
   "metadata": {},
   "outputs": [],
   "source": [
    "import sys\n",
    "import objectio"
   ]
  },
  {
   "cell_type": "markdown",
   "metadata": {},
   "source": [
    "## Python API"
   ]
  },
  {
   "cell_type": "markdown",
   "metadata": {},
   "source": [
    "Let's read a file from Google cloud storage using `objectio.gopen` (generic open):"
   ]
  },
  {
   "cell_type": "code",
   "execution_count": 3,
   "metadata": {},
   "outputs": [
    {
     "name": "stdout",
     "output_type": "stream",
     "text": [
      "b'{\\n \"cells\": [\\n  {\\n   \"cell_type\": \"code\",\\n   \"execution_count\": 1,\\n   \"metadata\": {},\\n   \"outputs\": '\n"
     ]
    }
   ],
   "source": [
    "url = \"gs://lpr-openimages/openimages-shard.ipynb\"\n",
    "with objectio.gopen(url, \"r\") as stream:\n",
    "    print(stream.read(100))"
   ]
  },
  {
   "cell_type": "markdown",
   "metadata": {},
   "source": [
    "The same code works for local files:"
   ]
  },
  {
   "cell_type": "code",
   "execution_count": 4,
   "metadata": {},
   "outputs": [
    {
     "name": "stdout",
     "output_type": "stream",
     "text": [
      "A\n",
      "A's\n",
      "AMD\n",
      "AMD's\n",
      "AOL\n",
      "\n"
     ]
    }
   ],
   "source": [
    "url = \"file:/usr/share/dict/words\"\n",
    "with objectio.gopen(url, \"r\") as stream:\n",
    "    print(stream.read(20))"
   ]
  },
  {
   "cell_type": "markdown",
   "metadata": {},
   "source": [
    "When no URL scheme is given, `gopen` just defaults to regular `open`:"
   ]
  },
  {
   "cell_type": "code",
   "execution_count": 5,
   "metadata": {},
   "outputs": [
    {
     "name": "stdout",
     "output_type": "stream",
     "text": [
      "A\n",
      "A's\n",
      "AMD\n",
      "AMD's\n",
      "AOL\n",
      "\n"
     ]
    }
   ],
   "source": [
    "url = \"/usr/share/dict/words\"\n",
    "with objectio.gopen(url, \"r\") as stream:\n",
    "    print(stream.read(20))"
   ]
  },
  {
   "cell_type": "markdown",
   "metadata": {},
   "source": [
    "There is an alternative library interface called `objectio.objopen` that supports additional \"verbs\". The \"read\" and \"write\" verbs correspond to \"r\" and \"w\", and \"list\" generates a newline separated listing of absolute URLs of all objects in a bucket.\n",
    "\n",
    "In addition, `objopen` always uses a subprocess for I/O and always returns an `objectio.Pipe` object that supports the `wait(timeout=sec)` method to wait for a subprocess to finish."
   ]
  },
  {
   "cell_type": "code",
   "execution_count": 6,
   "metadata": {},
   "outputs": [
    {
     "name": "stdout",
     "output_type": "stream",
     "text": [
      "b\"A\\nA's\\nAMD\\n\"\n"
     ]
    }
   ],
   "source": [
    "url = \"file:/usr/share/dict/words\"\n",
    "stream = objectio.objopen(url, \"read\")\n",
    "data = stream.read()\n",
    "stream.close(timeout=10.0)\n",
    "print(data[:10])"
   ]
  },
  {
   "cell_type": "code",
   "execution_count": 7,
   "metadata": {},
   "outputs": [
    {
     "name": "stdout",
     "output_type": "stream",
     "text": [
      "b'/usr/share/dict/README.select-wordlist\\n/usr/share/'\n"
     ]
    }
   ],
   "source": [
    "url = \"file:/usr/share/dict\"\n",
    "stream = objectio.objopen(url, \"list\")\n",
    "data = stream.read()\n",
    "stream.close(timeout=10.0)\n",
    "print(data[:50])"
   ]
  },
  {
   "cell_type": "markdown",
   "metadata": {},
   "source": [
    "## Command Line"
   ]
  },
  {
   "cell_type": "markdown",
   "metadata": {},
   "source": [
    "The library defines a single toplevel command called `obj`. It supports subcommands of `cat`, `put`, `list`, `auth`, and `handler`."
   ]
  },
  {
   "cell_type": "code",
   "execution_count": 8,
   "metadata": {},
   "outputs": [
    {
     "name": "stdout",
     "output_type": "stream",
     "text": [
      "<!doctype html><html itemscope=\"\" itemtype=\"http://schema.org/WebPage\"\n",
      "lang=\"en\"><head><meta content=\"Search the world's information,\n",
      "including webpages, images, videos and more. Google has many\n",
      "fmt: write error: Broken pipe\n"
     ]
    }
   ],
   "source": [
    "!obj cat http://www.google.com | fmt | sed 3q"
   ]
  },
  {
   "cell_type": "code",
   "execution_count": 9,
   "metadata": {},
   "outputs": [
    {
     "name": "stdout",
     "output_type": "stream",
     "text": [
      "-r--r--r-- bigdata/bigdata 180172 2020-02-12 16:21 e39871fd9fd74f55.jpg\n",
      "-r--r--r-- bigdata/bigdata    816 2020-02-12 16:21 e39871fd9fd74f55.json\n",
      "-r--r--r-- bigdata/bigdata  88910 2020-02-12 16:21 f18b91585c4d3f3e.jpg\n",
      "-r--r--r-- bigdata/bigdata   2719 2020-02-12 16:21 f18b91585c4d3f3e.json\n",
      "-r--r--r-- bigdata/bigdata  84559 2020-02-12 16:21 ede6e66b2fb59aab.jpg\n",
      "tar: write error\n"
     ]
    }
   ],
   "source": [
    "!obj cat gs://lpr-openimages/openimages-train-000000.tar | tar -tvf - | sed 5q"
   ]
  },
  {
   "cell_type": "code",
   "execution_count": 10,
   "metadata": {},
   "outputs": [
    {
     "name": "stdout",
     "output_type": "stream",
     "text": [
      "gs://lpr-openimages/openimages-shard.ipynb\n",
      "gs://lpr-openimages/openimages-train-000000.tar\n",
      "gs://lpr-openimages/openimages-train-000001.tar\n",
      "gs://lpr-openimages/openimages-train-000002.tar\n",
      "gs://lpr-openimages/openimages-train-000003.tar\n",
      "gs://lpr-openimages/openimages-train-000004.tar\n",
      "gs://lpr-openimages/openimages-train-000005.tar\n",
      "gs://lpr-openimages/openimages-train-000006.tar\n",
      "gs://lpr-openimages/openimages-train-000007.tar\n",
      "gs://lpr-openimages/openimages-train-000008.tar\n"
     ]
    }
   ],
   "source": [
    "!obj list gs://lpr-openimages | sed 10q"
   ]
  },
  {
   "cell_type": "markdown",
   "metadata": {},
   "source": [
    "## Configurability and New Protocols"
   ]
  },
  {
   "cell_type": "markdown",
   "metadata": {},
   "source": [
    "Internally, `obj` handles all object access by calling command line programs. This is easy to configure and adapt to new protocols. In addition, since Python is not very good at multithreading, this is actually a good solution, since I/O happens asynchronously. In fact, `obj` will try to plumb the output from the command line program directly to `stdout` so that I/O is as efficient as if the command line program had been called directly.\n",
    "\n",
    "You can see the commands that `obj` invokes by using the `handler` subcommand."
   ]
  },
  {
   "cell_type": "code",
   "execution_count": 11,
   "metadata": {},
   "outputs": [
    {
     "name": "stdout",
     "output_type": "stream",
     "text": [
      "cmd: [dd, 'if={path}', bs=4M]\n"
     ]
    }
   ],
   "source": [
    "!obj handler file: --verb=read"
   ]
  },
  {
   "cell_type": "markdown",
   "metadata": {},
   "source": [
    "Let's say you want to change this default to using `cat`. You can define the handler for a protocol with a small YAML file."
   ]
  },
  {
   "cell_type": "code",
   "execution_count": 33,
   "metadata": {},
   "outputs": [
    {
     "name": "stdout",
     "output_type": "stream",
     "text": [
      "Overwriting objectio.yml\n"
     ]
    }
   ],
   "source": [
    "%%writefile objectio.yml\n",
    "schemes:\n",
    "  file:\n",
    "    read:\n",
    "      cmd: [\"cat\", \"{path}\"]"
   ]
  },
  {
   "cell_type": "code",
   "execution_count": 34,
   "metadata": {},
   "outputs": [
    {
     "name": "stdout",
     "output_type": "stream",
     "text": [
      "cmd: [cat, '{path}']\n"
     ]
    }
   ],
   "source": [
    "!obj handler file: --verb=read"
   ]
  },
  {
   "cell_type": "code",
   "execution_count": 35,
   "metadata": {},
   "outputs": [
    {
     "name": "stdout",
     "output_type": "stream",
     "text": [
      "A\n",
      "A's\n",
      "AMD\n"
     ]
    }
   ],
   "source": [
    "!obj cat file:/usr/share/dict/words | sed 3q"
   ]
  }
 ],
 "metadata": {
  "kernelspec": {
   "display_name": "Python 3",
   "language": "python",
   "name": "python3"
  },
  "language_info": {
   "codemirror_mode": {
    "name": "ipython",
    "version": 3
   },
   "file_extension": ".py",
   "mimetype": "text/x-python",
   "name": "python",
   "nbconvert_exporter": "python",
   "pygments_lexer": "ipython3",
   "version": "3.7.3"
  }
 },
 "nbformat": 4,
 "nbformat_minor": 4
}
